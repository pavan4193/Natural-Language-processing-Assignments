{
  "nbformat": 4,
  "nbformat_minor": 0,
  "metadata": {
    "colab": {
      "provenance": []
    },
    "kernelspec": {
      "name": "python3",
      "display_name": "Python 3"
    },
    "language_info": {
      "name": "python"
    }
  },
  "cells": [
    {
      "cell_type": "markdown",
      "source": [
        "# **Activity 1: Introduction to NLP basic techniques**\n",
        "\n",
        "\n",
        "\n",
        "##Those who are not able to make it to the class are required to provide explanations for the code part provided in the tutorial by adding a text below the code cell.\n",
        "###**Note**: your explanation must include how the code works and libraries used and why they are used.\n",
        "\n",
        "###Students who are present in the class need to complete the activity1 and answer the question given at the end of tutorial.\n",
        "\n",
        "\n",
        "\n",
        "\n",
        "# **Good Luck with the first NLP In class tasks ✌**"
      ],
      "metadata": {
        "id": "bAYOcgcD7F43"
      }
    },
    {
      "cell_type": "markdown",
      "source": [
        "# Fundamentals of NLP: Tokenization\n",
        "\n",
        "\n",
        "Natural language processing (NLP) has made substantial advances in the past few years due to the success of [modern techniques](https://nlpoverview.com/) that are based on [deep learning](https://en.wikipedia.org/wiki/Deep_learning). With the rise of the popularity of NLP and the availability of different forms of large-scale data, it is now even more imperative to understand the inner workings of NLP techniques and concepts, from first principles, as they find their way into real-world usage and applications that affect society at large. Building intuitions and having a solid grasp of concepts are both important for coming up with innovative techniques, improving research, and building safe, human-centered AI and NLP technologies.\n",
        "\n",
        "In this first chapter, which is part of a series called **Fundamentals of NLP**, we will learn about some of the most important **basic concepts** that power NLP techniques used for research and building real-world applications. Some of these techniques include *lemmatization*, *stemming*, *tokenization*, and *sentence segmentation*. These are all important techniques to train efficient and effective NLP models. Along the way, we will also cover best practices and common mistakes to avoid when training and building NLP models. We also provide some exercises for you to keep practicing and exploring some ideas.\n",
        "\n",
        "\n",
        "In every chapter, we will introduce the theoretical aspect and motivation of each concept covered. Then we will obtain hands-on experience by using bootstrap methods, industry-standard tools, and other open-source libraries to implement the different techniques. Along the way, we will also cover best practices, share important references, point out common mistakes to avoid when training and building NLP models, and discuss what lies ahead.\n",
        "\n",
        "---"
      ],
      "metadata": {
        "id": "t7X4dLtV6uFY"
      }
    },
    {
      "cell_type": "markdown",
      "source": [
        "## Tokenization\n",
        "\n",
        "\n",
        "\n",
        "With any typical NLP task, one of the first steps is to tokenize your pieces of text into its individual words/tokens (process demonstrated in the figure above), the result of which is used to create so-called vocabularies that will be used in the langauge model you plan to build. This is actually one of the techniques that we will use the most throughout this series but here we stick to the basics. Tokenization is a foundational step that transforms raw text into a structured format suitable for various NLP tasks and machine learning applications\n",
        "\n",
        "Below I am showing you an example of a simple tokenizer without any following any standards. All it does is extract tokens based on a white space seperator.\n",
        "\n",
        "Try to running the following code blocks."
      ],
      "metadata": {
        "id": "7QLoizzj66rf"
      }
    },
    {
      "cell_type": "code",
      "metadata": {
        "id": "vUhMRrhFGfqJ",
        "outputId": "4b4337cf-4fe7-4019-98e2-928b9a23d9e8",
        "colab": {
          "base_uri": "https://localhost:8080/"
        }
      },
      "source": [
        "doc = \"I love coding and writing\"\n",
        "for i, w in enumerate(doc.split(\" \")):#enumerate() is used to iterate over a sequence while keeping track of both the index and corresponding value\n",
        "    print(\"Token \" + str(i) + \": \" + w)"
      ],
      "execution_count": null,
      "outputs": [
        {
          "output_type": "stream",
          "name": "stdout",
          "text": [
            "Token 0: I\n",
            "Token 1: love\n",
            "Token 2: coding\n",
            "Token 3: and\n",
            "Token 4: writing\n"
          ]
        }
      ]
    },
    {
      "cell_type": "markdown",
      "metadata": {
        "id": "Med-k0CeG8Ke"
      },
      "source": [
        "All the code does is separate the sentence into individual tokens. The above simple block of code works well on the text I have provided. But typically, text is a lot noisier and complex than the example I used. For instance, if I used the word \"so-called\" is that one word or two words? For such scenarios, you may need more advanced approaches for tokenization. You can consider stripping away the \"-\" and splitting into two tokens or just combining into one token but this all depends on the problem and domain you are working on.\n",
        "\n",
        "Another problem with our simple algorithm is that it cannot deal with extra whitespaces in the text. In addition, how do we deal with cities like \"New York\" and \"San Francisco\"?\n"
      ]
    },
    {
      "cell_type": "markdown",
      "metadata": {
        "id": "z0qxNrl191NS"
      },
      "source": [
        "---\n",
        "**Q 1**: Copy the code from above and add extra whitespaces to the string value assigned to the `doc` variable and identify the issue with the code. Then try to fix the issue. Hint: Use `text.strip()` to fix the problem."
      ]
    },
    {
      "cell_type": "code",
      "metadata": {
        "id": "bx22yqPJQCQc"
      },
      "source": [
        "###  ENTER CODE HERE\n",
        "\n",
        "###"
      ],
      "execution_count": null,
      "outputs": []
    },
    {
      "cell_type": "markdown",
      "metadata": {
        "id": "QpYLDmLu9379"
      },
      "source": [
        "---"
      ]
    },
    {
      "cell_type": "markdown",
      "metadata": {
        "id": "kSQwXKwrQAp0"
      },
      "source": [
        "Tokenization can also come in different forms. For instance, more recently a lot of state-of-the-art NLP models such as [BERT](https://arxiv.org/pdf/1810.04805.pdf) make use of `subword` tokens in which frequent combinations of characters also form part of the vocabulary. This helps to deal with the so-called out of vocabulary (OOV) problem. We will discuss this in upcoming chapters, but if you are interested in reading more about this now, check this [paper](https://static.googleusercontent.com/media/research.google.com/en//pubs/archive/37842.pdf).\n",
        "\n",
        "To demonstrate how you can achieve more reliable tokenization, we are going to use [spaCy](https://spacy.io/), which is an impressive and robust Python library for natural language processing. In particular, we are going to use the built-in tokenizer found [here](https://spacy.io/usage/linguistic-features#sbd-custom).\n",
        "\n",
        "Run the code block below."
      ]
    },
    {
      "cell_type": "markdown",
      "source": [
        "**spaCy**: spaCy is an open-source Python library for natural language processing (NLP). It provides tools to efficiently process and analyze text data, offering features like tokenization, part-of-speech tagging, named entity recognition, and more. Known for its speed and accuracy, spaCy is widely used in NLP tasks for extracting insights and information from text."
      ],
      "metadata": {
        "id": "8lc6_hmeIQe5"
      }
    },
    {
      "cell_type": "code",
      "source": [
        "## required libraries that need to be installed\n",
        "%%capture\n",
        "!pip install -U spacy\n",
        "#!pip install -U spacy-lookups-data\n",
        "!python -m spacy download en_core_web_sm"
      ],
      "metadata": {
        "id": "mLYJdZ-eINXp"
      },
      "execution_count": null,
      "outputs": []
    },
    {
      "cell_type": "code",
      "metadata": {
        "id": "Cpinv_FjoyVx",
        "outputId": "e822da35-39d6-4013-c60d-46a751b6ed25",
        "colab": {
          "base_uri": "https://localhost:8080/"
        }
      },
      "source": [
        "## import the libraries\n",
        "import spacy #opensource lib used for tokenization,lemmatization and provides pre trained models\n",
        "## load the pre trained language model\n",
        "nlp = spacy.load(\"en_core_web_sm\") #\"en\" indicates English, \"core\" suggests that it's a core language model, \"web\" refers to the source of the training data, and \"sm\" stands for \"small\"\n",
        "\n",
        "## tokenization\n",
        "doc = nlp(\"This is the so-called lemmatization\")\n",
        "for token in doc:\n",
        "    print(token.text)"
      ],
      "execution_count": null,
      "outputs": [
        {
          "output_type": "stream",
          "name": "stdout",
          "text": [
            "This\n",
            "is\n",
            "the\n",
            "so\n",
            "-\n",
            "called\n",
            "lemmatization\n"
          ]
        }
      ]
    },
    {
      "cell_type": "markdown",
      "source": [
        "---\n",
        "**NLTK** (Natural Language Toolkit) is a Python library that provides tools and resources for working with human language data, enabling tasks like text processing, analysis, and understanding. It's widely used for various natural language processing tasks, offering functions for tasks like tokenization, part-of-speech tagging, and more"
      ],
      "metadata": {
        "id": "6Band6VELIpG"
      }
    },
    {
      "cell_type": "code",
      "source": [
        "import nltk\n",
        "nltk.download('punkt')#Punkt is a pre-trained sentence tokenizer provided by NLTK that can intelligently split text into individual sentences\n",
        "from nltk.tokenize import word_tokenize #word_tokenize function is used to split a piece of text into individual words or tokens\n",
        "sentence = \"\"\"At eight o'clock on Thursday morning Arthur didn't feel very good.\"\"\"\n",
        "tokens = nltk.word_tokenize(sentence)\n",
        "tokens"
      ],
      "metadata": {
        "id": "mAL5s1ddKrBv"
      },
      "execution_count": null,
      "outputs": []
    },
    {
      "cell_type": "markdown",
      "source": [
        "**Q 2**: Copy the code from above and extend  the code to print tokens from the given sentence that have a length greater than 5?"
      ],
      "metadata": {
        "id": "Jnyu2UQWLuAs"
      }
    },
    {
      "cell_type": "code",
      "source": [
        "##CODE HERE\n"
      ],
      "metadata": {
        "id": "1snxEU2PMIIF"
      },
      "execution_count": null,
      "outputs": []
    },
    {
      "cell_type": "markdown",
      "source": [
        "---\n",
        "**Gensim** is a Python library designed for topic modeling and document similarity analysis. It specializes in handling large text corpora efficiently. Gensim provides tools for tasks like topic modeling, word embedding, and document similarity calculation. It's widely used for uncovering hidden patterns in text data and generating insights from unstructured text.\n",
        "\n",
        "In summary, Gensim is a powerful library in the field of natural language processing (NLP) that focuses on tasks related to text analysis and modeling, such as extracting topics from documents and creating word embeddings."
      ],
      "metadata": {
        "id": "fqKqRVSXNCZD"
      }
    },
    {
      "cell_type": "code",
      "source": [
        "#genism work tokenization\n",
        "!pip install gensim\n",
        "from gensim.utils import tokenize\n",
        "text = \"\"\"Founded in 2002, SpaceX’s mission is to enable humans to become a spacefaring civilization and a multi-planet\n",
        "species by building a self-sustaining city on Mars. In 2008, SpaceX’s Falcon 1 became the first privately developed\n",
        "liquid-fuel launch vehicle to orbit the Earth.\"\"\"\n",
        "list(tokenize(text))"
      ],
      "metadata": {
        "id": "TaKOpJByNBYL"
      },
      "execution_count": null,
      "outputs": []
    },
    {
      "cell_type": "markdown",
      "source": [
        "**Q 3**. Now based on above word tokenization perform a sentence tokenization with gensim?\n",
        "\n",
        "**HINT:** use the split_sentences method from the gensim.summerization.texttcleaner class"
      ],
      "metadata": {
        "id": "A6CXDnOeRlvX"
      }
    },
    {
      "cell_type": "code",
      "source": [
        "##CODE HERE\n"
      ],
      "metadata": {
        "id": "XpYXY2cgRl9G"
      },
      "execution_count": null,
      "outputs": []
    },
    {
      "cell_type": "markdown",
      "metadata": {
        "id": "Zl6JG5yirhn0"
      },
      "source": [
        "All the code does is tokenize the text based on a pre-built language model.\n",
        "\n",
        "Try putting different running text into the `nlp()` part of the code above. The tokenizer is quiet robust and it includes a series of built-in rules that deal with exceptions and special cases such as those tokens that contain puctuations like \"`\" and \".\", \"-\", etc. You can even add your own rules, find out how [here](https://spacy.io/usage/linguistic-features#special-cases).\n",
        "\n",
        "In a later chapter of the series, we will do a deep dive on tokenization and the different tools that exist out there that can simplify and speed up the process of tokenization to build vocabularies. Some of the tools we will explore are the [Keras Tokenizer API](https://www.tensorflow.org/api_docs/python/tf/keras/preprocessing/text/Tokenizer) and [Hugging Face Tokenizer](https://github.com/huggingface/tokenizers).  \n",
        "\n",
        "---"
      ]
    },
    {
      "cell_type": "markdown",
      "source": [
        "**BeautifulSoup**: Beautiful Soup is a Python library used for web scraping. It helps extract data from HTML and XML documents by providing methods to parse and navigate their content. Beautiful Soup simplifies the process of extracting information from web pages, making it accessible for various data collection and analysis tasks."
      ],
      "metadata": {
        "id": "Jm3BnqMw1VbK"
      }
    },
    {
      "cell_type": "code",
      "source": [
        "#code block 1\n",
        "#import the required libraries\n",
        "\n",
        "from bs4 import BeautifulSoup\n",
        "import urllib.request\n",
        "import nltk\n",
        "from nltk.corpus import stopwords\n",
        "nltk.download('stopwords')"
      ],
      "metadata": {
        "colab": {
          "base_uri": "https://localhost:8080/"
        },
        "id": "b9IYeaL83fge",
        "outputId": "7e5bb24e-ea3d-4e13-abe5-9af59e7e40cb"
      },
      "execution_count": null,
      "outputs": [
        {
          "output_type": "stream",
          "name": "stderr",
          "text": [
            "[nltk_data] Downloading package stopwords to /root/nltk_data...\n",
            "[nltk_data]   Unzipping corpora/stopwords.zip.\n"
          ]
        },
        {
          "output_type": "execute_result",
          "data": {
            "text/plain": [
              "True"
            ]
          },
          "metadata": {},
          "execution_count": 8
        }
      ]
    },
    {
      "cell_type": "markdown",
      "source": [
        "First, we will grab a web page content then we will analyze the text to see what the page is about.\n",
        "We will use the urllib module to crawl the web page:"
      ],
      "metadata": {
        "id": "m1ITOcdI81gn"
      }
    },
    {
      "cell_type": "code",
      "source": [
        "#code block 2\n",
        "\n",
        "import urllib.request\n",
        "\n",
        "#open and read the spacex data\n",
        "response = urllib.request.urlopen('http://php.net/')\n",
        "html = response.read()\n",
        "#print(html)"
      ],
      "metadata": {
        "id": "VzJX6IyZ86Xi"
      },
      "execution_count": null,
      "outputs": []
    },
    {
      "cell_type": "markdown",
      "source": [
        "As you can see from the printed output, the result contains a lot of HTML tags that need to be\n",
        "cleaned. We can use BeautifulSoup to clean the grabbed text like this:"
      ],
      "metadata": {
        "id": "YV4y57nS87zY"
      }
    },
    {
      "cell_type": "code",
      "source": [
        "#code block 3\n",
        "#apply beautifulsoap(used for web scraping) and split the text\n",
        "soup = BeautifulSoup(html,\"html5lib\") #\"html5lib\" parser is a robust parser that can handle poorly formatted HTML and produces a consistent and accurate representation of the document's structure.\n",
        "text = soup.get_text(strip=True)\n",
        "#print(text)"
      ],
      "metadata": {
        "id": "dk_qoT6x9ALr"
      },
      "execution_count": null,
      "outputs": []
    },
    {
      "cell_type": "markdown",
      "source": [
        "Now we have a clean text from the crawled web page.\n",
        "Awesome, right? Finally, let’s convert that text into tokens by splitting the text like this:\n"
      ],
      "metadata": {
        "id": "xrw8T9zS9CEa"
      }
    },
    {
      "cell_type": "code",
      "source": [
        "#code block 4\n",
        "#split the text into tokens\n",
        "tokens = [t for t in text.split()]\n",
        "#print(tokens)\n",
        "clean_tokens = tokens[:]"
      ],
      "metadata": {
        "id": "CidOZ44F9Muc"
      },
      "execution_count": null,
      "outputs": []
    },
    {
      "cell_type": "markdown",
      "source": [
        "**Stopwords** are commonly used words that are filtered out from text during text preprocessing in natural language processing (NLP) tasks. These words are considered to be of little value in many NLP analyses because they are very frequent and don't carry significant meaning by themselves. Filtering out stopwords can help improve the efficiency of text analysis and reduce noise in the data.\n",
        "\n",
        "Examples of stopwords in English include words like \"the,\" \"and,\" \"is,\" \"of,\" \"in,\" \"to,\" \"for,\" \"that,\" and so on.\n",
        "\n",
        "\n",
        "**Count word frequency**\n",
        "The text is much better now. Let’s calculate the frequency distribution of those tokens using\n",
        "Python NLTK. There is a function in NLTK called FreqDist() does the job:"
      ],
      "metadata": {
        "id": "UtBKLMr99NNJ"
      }
    },
    {
      "cell_type": "code",
      "source": [
        "#code block 5\n",
        "\n",
        "#remove the simpe repetitive english words using stopwords\n",
        "sr = stopwords.words('english')\n",
        "for token in tokens:\n",
        "  if token in stopwords.words('english'):\n",
        "     clean_tokens.remove(token)\n",
        "freq = nltk.FreqDist(clean_tokens)\n",
        "#del_tokens = freq.copy()"
      ],
      "metadata": {
        "id": "wmBLonbf9Ujs"
      },
      "execution_count": null,
      "outputs": []
    },
    {
      "cell_type": "markdown",
      "source": [
        "If you search the output, you’ll find that the most frequent token is PHP. You can plot a graph\n",
        "for those tokens using plot function like this:\n"
      ],
      "metadata": {
        "id": "BwmAB8TD9Zkg"
      }
    },
    {
      "cell_type": "code",
      "source": [
        "#code block 6\n",
        "#print and plot the 10 tokens with  high frequency\n",
        "for key,val in freq.items():\n",
        "    print (str(key) + ':' + str(val))\n",
        "freq.plot(10,cumulative=False)"
      ],
      "metadata": {
        "id": "NfA2LLwi9a5f",
        "colab": {
          "base_uri": "https://localhost:8080/",
          "height": 1000
        },
        "outputId": "243441b5-62ec-4c96-b498-5517c5d96f00"
      },
      "execution_count": null,
      "outputs": [
        {
          "output_type": "stream",
          "name": "stdout",
          "text": [
            "PHP::1\n",
            "Hypertext:1\n",
            "PreprocessorDownloadsDocumentationGet:1\n",
            "InvolvedHelpGetting:1\n",
            "StartedIntroductionA:1\n",
            "simple:1\n",
            "tutorialLanguage:1\n",
            "ReferenceBasic:1\n",
            "syntaxTypesVariablesConstantsExpressionsOperatorsControl:1\n",
            "StructuresFunctionsClasses:1\n",
            "ObjectsNamespacesEnumerationsErrorsExceptionsFibersGeneratorsAttributesReferences:1\n",
            "ExplainedPredefined:1\n",
            "VariablesPredefined:1\n",
            "ExceptionsPredefined:1\n",
            "Interfaces:1\n",
            "ClassesPredefined:1\n",
            "AttributesContext:1\n",
            "options:1\n",
            "parametersSupported:1\n",
            "Protocols:1\n",
            "WrappersSecurityIntroductionGeneral:1\n",
            "considerationsInstalled:1\n",
            "CGI:1\n",
            "binaryInstalled:1\n",
            "Apache:1\n",
            "moduleSession:1\n",
            "SecurityFilesystem:1\n",
            "SecurityDatabase:1\n",
            "SecurityError:1\n",
            "ReportingUser:1\n",
            "Submitted:1\n",
            "DataHiding:1\n",
            "PHPKeeping:1\n",
            "CurrentFeaturesHTTP:1\n",
            "authentication:1\n",
            "PHPCookiesSessionsDealing:1\n",
            "XFormsHandling:1\n",
            "file:1\n",
            "uploadsUsing:1\n",
            "remote:1\n",
            "filesConnection:1\n",
            "handlingPersistent:1\n",
            "Database:1\n",
            "ConnectionsCommand:1\n",
            "line:1\n",
            "usageGarbage:1\n",
            "CollectionDTrace:1\n",
            "Dynamic:1\n",
            "TracingFunction:1\n",
            "ReferenceAffecting:1\n",
            "PHP's:1\n",
            "BehaviourAudio:1\n",
            "Formats:1\n",
            "ManipulationAuthentication:1\n",
            "ServicesCommand:1\n",
            "Line:1\n",
            "Specific:2\n",
            "ExtensionsCompression:1\n",
            "Archive:1\n",
            "ExtensionsCryptography:1\n",
            "ExtensionsDatabase:1\n",
            "ExtensionsDate:1\n",
            "Time:1\n",
            "Related:4\n",
            "ExtensionsFile:1\n",
            "System:1\n",
            "ExtensionsHuman:1\n",
            "Language:1\n",
            "Character:1\n",
            "Encoding:1\n",
            "SupportImage:1\n",
            "Processing:1\n",
            "GenerationMail:1\n",
            "ExtensionsMathematical:1\n",
            "ExtensionsNon-Text:1\n",
            "MIME:1\n",
            "OutputProcess:1\n",
            "Control:1\n",
            "ExtensionsOther:2\n",
            "Basic:1\n",
            "ServicesSearch:1\n",
            "Engine:1\n",
            "ExtensionsServer:1\n",
            "ExtensionsSession:1\n",
            "ExtensionsText:1\n",
            "ProcessingVariable:1\n",
            "Type:1\n",
            "ExtensionsWeb:1\n",
            "ServicesWindows:1\n",
            "Only:1\n",
            "ExtensionsXML:1\n",
            "ManipulationGUI:1\n",
            "ExtensionsKeyboard:1\n",
            "Shortcuts?This:1\n",
            "helpjNext:1\n",
            "menu:2\n",
            "itemkPrevious:1\n",
            "itemg:1\n",
            "pPrevious:1\n",
            "man:2\n",
            "pageg:1\n",
            "nNext:1\n",
            "pageGScroll:1\n",
            "bottomg:1\n",
            "gScroll:1\n",
            "topg:1\n",
            "hGoto:1\n",
            "homepageg:1\n",
            "sGoto:1\n",
            "search(current:1\n",
            "page)/Focus:1\n",
            "search:1\n",
            "boxApopular:1\n",
            "general-purpose:1\n",
            "scripting:1\n",
            "languagethat:1\n",
            "especially:1\n",
            "suited:1\n",
            "web:1\n",
            "development.Fast,:1\n",
            "flexible:1\n",
            "pragmatic,:1\n",
            "PHP:109\n",
            "powers:1\n",
            "everything:1\n",
            "blog:1\n",
            "popular:1\n",
            "websites:1\n",
            "world.What's:1\n",
            "new:7\n",
            "8.2Download8.2.9·Changelog·Upgrading8.1.22·Changelog·Upgrading8.0.30·Changelog·Upgrading17:1\n",
            "Aug:8\n",
            "2023PHP:25\n",
            "8.3.0:12\n",
            "Beta:12\n",
            "3:5\n",
            "available:6\n",
            "testingThe:6\n",
            "team:25\n",
            "pleased:6\n",
            "announce:6\n",
            "third:2\n",
            "beta:3\n",
            "release:33\n",
            "8.3.0,:6\n",
            "3.:2\n",
            "This:25\n",
            "continues:5\n",
            "8.3:6\n",
            "cycle,:6\n",
            "rough:5\n",
            "outline:6\n",
            "specified:6\n",
            "thePHP:6\n",
            "Wiki.For:6\n",
            "source:45\n",
            "downloads:25\n",
            "please:25\n",
            "visit:24\n",
            "thedownload:5\n",
            "page.Please:6\n",
            "carefully:6\n",
            "test:12\n",
            "version:12\n",
            "report:6\n",
            "issues:6\n",
            "found:37\n",
            "thebug:5\n",
            "reporting:5\n",
            "system.Please:6\n",
            "DO:6\n",
            "NOT:6\n",
            "use:6\n",
            "production,:6\n",
            "early:6\n",
            "version.For:24\n",
            "information:6\n",
            "features:6\n",
            "changes,:6\n",
            "read:6\n",
            "theNEWSfile,:6\n",
            "theUPGRADINGfile:6\n",
            "complete:6\n",
            "list:25\n",
            "upgrading:6\n",
            "notes.:6\n",
            "These:6\n",
            "files:6\n",
            "also:6\n",
            "archive.The:6\n",
            "next:6\n",
            "RC:1\n",
            "1,:2\n",
            "planned:6\n",
            "31:1\n",
            "2023.The:6\n",
            "signatures:6\n",
            "inthe:4\n",
            "manifestor:4\n",
            "onthe:4\n",
            "QA:4\n",
            "site.Thank:6\n",
            "helping:6\n",
            "us:6\n",
            "make:6\n",
            "better.16:1\n",
            "8.2.9:2\n",
            "Released!The:19\n",
            "development:19\n",
            "announces:19\n",
            "immediate:19\n",
            "availability:19\n",
            "8.2.9.:1\n",
            "security:9\n",
            "release.All:16\n",
            "8.2:8\n",
            "users:19\n",
            "encouraged:16\n",
            "upgrade:19\n",
            "version.Windows:1\n",
            "binaries:20\n",
            "synchronized:1\n",
            "contain:1\n",
            "fix:11\n",
            "GH-11854.For:1\n",
            "ourdownloads:19\n",
            "page,:19\n",
            "Windows:19\n",
            "onwindows.php.net/download/.:19\n",
            "The:21\n",
            "changes:19\n",
            "recorded:19\n",
            "theChangeLog.04:1\n",
            "8.0.30:2\n",
            "8.0.30.:1\n",
            "8.0:3\n",
            "theChangeLog.03:1\n",
            "2:4\n",
            "second:2\n",
            "2.:2\n",
            "3,:2\n",
            "17:1\n",
            "better.03:1\n",
            "8.1.22:2\n",
            "8.1.22.:1\n",
            "8.1:8\n",
            "theChangeLog.20:1\n",
            "Jul:5\n",
            "1:4\n",
            "first:2\n",
            "1.:2\n",
            "2,:2\n",
            "better.06:1\n",
            "8.1.21:2\n",
            "8.1.21.:1\n",
            "bug:11\n",
            "theChangeLog.06:2\n",
            "8.2.8:2\n",
            "8.2.8.:1\n",
            "Alpha:11\n",
            "testing:3\n",
            "20:1\n",
            "themanifestor:2\n",
            "theQA:2\n",
            "better.22:1\n",
            "Jun:6\n",
            "rouch:1\n",
            "visitdownload:1\n",
            "6:1\n",
            "July:1\n",
            "better!08:1\n",
            "8.1.20:2\n",
            "8.1.20.:1\n",
            "theChangeLog.08:2\n",
            "starts:1\n",
            "usingthe:1\n",
            "tracking:1\n",
            "22:1\n",
            "better.08:1\n",
            "8.2.7:2\n",
            "8.2.7.:1\n",
            "8.0.29:2\n",
            "8.0.29.:1\n",
            "theChangeLog.11:2\n",
            "May:2\n",
            "8.1.19:2\n",
            "8.1.19.:1\n",
            "8.2.6:2\n",
            "8.2.6.:1\n",
            "theChangeLog.13:2\n",
            "Apr:2\n",
            "8.1.18:2\n",
            "8.1.18.:1\n",
            "8.2.5:2\n",
            "8.2.5.:1\n",
            "theChangeLog.16:2\n",
            "Mar:2\n",
            "8.2.4:2\n",
            "8.2.4.:1\n",
            "8.1.17:2\n",
            "8.1.17.:1\n",
            "theChangeLog.14:3\n",
            "Feb:5\n",
            "8.1.16:2\n",
            "8.1.16.:1\n",
            "addresses:3\n",
            "CVE-2023-0567,:3\n",
            "CVE-2023-0568,:3\n",
            "CVE-2023-0662.All:3\n",
            "advised:3\n",
            "8.2.3:2\n",
            "8.2.3.:1\n",
            "8.0.28:2\n",
            "8.0.28.:1\n",
            "theChangeLog.02:2\n",
            "8.1.15:2\n",
            "8.1.15.:1\n",
            "8.2.2:2\n",
            "8.2.2.:1\n",
            "theChangeLog.Older:1\n",
            "News:1\n",
            "EntriesUpcoming:1\n",
            "conferencesTeknasyon:1\n",
            "PHPKonf:1\n",
            "2023PHPeste:1\n",
            "2023CakeFest:1\n",
            "2023::1\n",
            "Official:1\n",
            "CakePHP:1\n",
            "ConferenceInternational:1\n",
            "Conference:1\n",
            "Munich:1\n",
            "2023Conferences:1\n",
            "calling:1\n",
            "papersConFoo:1\n",
            "Montreal:1\n",
            "2024User:1\n",
            "Group:1\n",
            "EventsSpecial:1\n",
            "ThanksSocial:1\n",
            "media@official_phpCopyright:1\n",
            "©:1\n",
            "2001-2023:1\n",
            "GroupMy:1\n",
            "PHP.netContactOther:1\n",
            "PHP.net:1\n",
            "sitesPrivacy:1\n",
            "policyView:1\n",
            "Source:1\n"
          ]
        },
        {
          "output_type": "display_data",
          "data": {
            "text/plain": [
              "<Figure size 640x480 with 1 Axes>"
            ],
            "image/png": "[encoded data removed]"
          },
          "metadata": {}
        },
        {
          "output_type": "execute_result",
          "data": {
            "text/plain": [
              "<Axes: xlabel='Samples', ylabel='Counts'>"
            ]
          },
          "metadata": {},
          "execution_count": 13
        }
      ]
    },
    {
      "cell_type": "markdown",
      "source": [
        "###**PIE CHART REPRESENTATION**"
      ],
      "metadata": {
        "id": "f3RdIV3Air5g"
      }
    },
    {
      "cell_type": "code",
      "source": [
        "#pie chart representation for the 10 high frequency tokens from spaces web apge\n",
        "import matplotlib.pyplot as plt\n",
        "a = dict(freq)\n",
        "sort = sorted(a, key=a.get,reverse=True)\n",
        "count =0\n",
        "b = {}\n",
        "for i in sort:\n",
        "    b[i] = a[i]\n",
        "    count+= 1\n",
        "    if count == 10:\n",
        "       break\n",
        "x = b.keys()\n",
        "v = b.values()\n",
        "plt.pie(v,labels=x)"
      ],
      "metadata": {
        "colab": {
          "base_uri": "https://localhost:8080/",
          "height": 753
        },
        "id": "CK3u8YMbhe7a",
        "outputId": "3e83f346-aeae-41f7-dcb0-5ef22eb8d0fe"
      },
      "execution_count": null,
      "outputs": [
        {
          "output_type": "execute_result",
          "data": {
            "text/plain": [
              "([<matplotlib.patches.Wedge at 0x7a53f0949bd0>,\n",
              "  <matplotlib.patches.Wedge at 0x7a53f0949ae0>,\n",
              "  <matplotlib.patches.Wedge at 0x7a53f094a380>,\n",
              "  <matplotlib.patches.Wedge at 0x7a53f094a800>,\n",
              "  <matplotlib.patches.Wedge at 0x7a53f094ac80>,\n",
              "  <matplotlib.patches.Wedge at 0x7a53f094b100>,\n",
              "  <matplotlib.patches.Wedge at 0x7a53f094b580>,\n",
              "  <matplotlib.patches.Wedge at 0x7a53f094ba00>,\n",
              "  <matplotlib.patches.Wedge at 0x7a53f094be80>,\n",
              "  <matplotlib.patches.Wedge at 0x7a53ee78c370>],\n",
              " [Text(0.6702482766518635, 0.8722197244073349, 'PHP'),\n",
              "  Text(-0.6555011645320317, 0.8833562267268796, 'source'),\n",
              "  Text(-1.067523705526524, 0.26531705210732154, 'found'),\n",
              "  Text(-1.0354063130410198, -0.37139435498510437, 'release'),\n",
              "  Text(-0.7410651912222185, -0.8129098242479157, '2023PHP'),\n",
              "  Text(-0.3451869905178837, -1.0444357048555966, 'team'),\n",
              "  Text(0.11069206452665124, -1.0944164046882832, 'This'),\n",
              "  Text(0.547330480083831, -0.9541642131054818, 'downloads'),\n",
              "  Text(0.8888311954565637, -0.6480579495564082, 'please'),\n",
              "  Text(1.0758341094735626, -0.2293054052856728, 'list')])"
            ]
          },
          "metadata": {},
          "execution_count": 14
        },
        {
          "output_type": "display_data",
          "data": {
            "text/plain": [
              "<Figure size 640x480 with 1 Axes>"
            ],
            "image/png": "[encoded data removed]"
          },
          "metadata": {}
        }
      ]
    },
    {
      "cell_type": "markdown",
      "source": [
        "###**BAR GRAPH REPRESENTATION**"
      ],
      "metadata": {
        "id": "gGmaH5wfimUW"
      }
    },
    {
      "cell_type": "code",
      "source": [
        "#EXAMPLE\n",
        "\n",
        "import nltk\n",
        "nltk.download('punkt')  # Download necessary data\n",
        "from nltk.tokenize import word_tokenize\n",
        "import matplotlib.pyplot as plt\n",
        "from collections import Counter\n",
        "\n",
        "# Sample text\n",
        "text = \"NLTK is a powerful library for natural language processing. NLTK provides tools for text analysis.\"\n",
        "\n",
        "# Tokenize the text\n",
        "tokens = word_tokenize(text)\n",
        "\n",
        "# Count word frequencies\n",
        "word_counts = Counter(tokens)\n",
        "print(word_counts)\n",
        "# Separate words and their frequencies\n",
        "words = list(word_counts.keys())\n",
        "frequencies = list(word_counts.values())\n",
        "\n",
        "# Create a bar graph\n",
        "plt.figure(figsize=(10,6))\n",
        "plt.bar(words, frequencies)\n",
        "plt.xlabel('Words')\n",
        "plt.ylabel('Frequency')\n",
        "plt.title('Token Frequencies')\n",
        "plt.xticks(rotation=45)\n",
        "\n",
        "# Display the graph\n",
        "plt.tight_layout()\n",
        "plt.show()"
      ],
      "metadata": {
        "colab": {
          "base_uri": "https://localhost:8080/",
          "height": 680
        },
        "id": "rv4YpYENii3A",
        "outputId": "b1630590-0a2b-4331-a1d6-e07d20a5cdb9"
      },
      "execution_count": null,
      "outputs": [
        {
          "output_type": "stream",
          "name": "stderr",
          "text": [
            "[nltk_data] Downloading package punkt to /root/nltk_data...\n",
            "[nltk_data]   Package punkt is already up-to-date!\n"
          ]
        },
        {
          "output_type": "stream",
          "name": "stdout",
          "text": [
            "Counter({'NLTK': 2, 'for': 2, '.': 2, 'is': 1, 'a': 1, 'powerful': 1, 'library': 1, 'natural': 1, 'language': 1, 'processing': 1, 'provides': 1, 'tools': 1, 'text': 1, 'analysis': 1})\n"
          ]
        },
        {
          "output_type": "display_data",
          "data": {
            "text/plain": [
              "<Figure size 1000x600 with 1 Axes>"
            ],
            "image/png": "[encoded data removed]"
          },
          "metadata": {}
        }
      ]
    },
    {
      "cell_type": "markdown",
      "source": [
        "---\n",
        "##Work on **code block 2** and use the same code concept below to parse data from any live website that talk about SpaceX Technologies and plot any graph for those tokens of your own choice.\n",
        "####Note: Please keep in mind that do not put all code in one block split in a fashionable way."
      ],
      "metadata": {
        "id": "lR7vqKXG-aGb"
      }
    },
    {
      "cell_type": "code",
      "source": [
        "#CODE HERE\n"
      ],
      "metadata": {
        "id": "bRHlBwDO-pJO"
      },
      "execution_count": null,
      "outputs": []
    },
    {
      "cell_type": "markdown",
      "source": [
        "#What do you understand by the tutorial. Explain briefly?\n",
        "-->"
      ],
      "metadata": {
        "id": "-Q6V4dzOXgKn"
      }
    }
  ]
}